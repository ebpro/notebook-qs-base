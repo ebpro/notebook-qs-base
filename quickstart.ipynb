{
 "cells": [
  {
   "cell_type": "markdown",
   "id": "b41e54f0-4b20-45dd-85cb-5f02b24a4fb4",
   "metadata": {
    "slideshow": {
     "slide_type": "slide"
    },
    "tags": [],
    "user_expressions": []
   },
   "source": [
    "# Quickstart for Jupyter-Base Notebook\n",
    "\n",
    "Un environnement de travail basé sur Jupyter [jupyter/minimal-notebook](https://hub.docker.com/r/jupyter/minimal-notebook/tags).\n",
    " cf. <https://github.com/ebpro/jupyter-base> \n",
    "\n",
    " * Dans des notebooks \n",
    "   * Programmation Python\n",
    "   * Utilisation d'un shell Linux\n",
    "   * Intégration de graphiques (PlantUML)\n",
    " * Dans un IDE embarqué (VSCode)\n",
    "   * Edition de documents LaTeX\n",
    "   * Développement logiciel classique"
   ]
  },
  {
   "cell_type": "markdown",
   "id": "3c6f1e58-f4ce-4164-8f73-70f9a6de2bab",
   "metadata": {
    "slideshow": {
     "slide_type": "slide"
    },
    "tags": [],
    "user_expressions": []
   },
   "source": [
    "L'organisation est très simple : \n",
    "  * un seul utilisateur `jovyan`\n",
    "  * les notebooks se trouvent dans `/home/jovyan/notebooks`\n",
    "  * l'espace de travail dans `/home/jovyan/work`\n",
    "\n",
    "Ces répertoires peuvent être préremplis, remplis dynamiquement (Git) ou montés depuis un environement persistant."
   ]
  },
  {
   "cell_type": "markdown",
   "id": "33102a08-870e-41de-89f3-261229b0cf8b",
   "metadata": {
    "slideshow": {
     "slide_type": "slide"
    },
    "tags": [],
    "user_expressions": []
   },
   "source": [
    "## Python\n",
    "\n",
    "Comme dans tous les notebooks Jupyter les cellules Python partagent le même interprète."
   ]
  },
  {
   "cell_type": "code",
   "execution_count": 6,
   "id": "b68ddb85-4702-448f-8565-9b40f9aa841c",
   "metadata": {
    "slideshow": {
     "slide_type": "fragment"
    },
    "tags": []
   },
   "outputs": [],
   "source": [
    "text=\"hello\""
   ]
  },
  {
   "cell_type": "code",
   "execution_count": 7,
   "id": "e0e97d7f-0723-472e-aee5-ec91de4d45dd",
   "metadata": {
    "slideshow": {
     "slide_type": "fragment"
    },
    "tags": []
   },
   "outputs": [
    {
     "name": "stdout",
     "output_type": "stream",
     "text": [
      "5\n",
      "4\n",
      "3\n",
      "2\n",
      "1\n",
      "HELLO\n"
     ]
    }
   ],
   "source": [
    "for i in range(5,0,-1):\n",
    "    print(i)\n",
    "print(text.upper())"
   ]
  },
  {
   "cell_type": "markdown",
   "id": "97a363a2-20c7-4e16-a997-5adcb2e3aef8",
   "metadata": {
    "slideshow": {
     "slide_type": "slide"
    },
    "tags": [],
    "user_expressions": []
   },
   "source": [
    "## Bash\n",
    "\n",
    "Des commandes spéciales (magics) en ligne (`%`) ou par cellule sont disponibles (`%%`). \n",
    "\n",
    "i.e `%%bash` pour exécuter des commandes dans un shell Bash."
   ]
  },
  {
   "cell_type": "code",
   "execution_count": 8,
   "id": "b9832d2a-df8d-484f-a783-126e57e9353a",
   "metadata": {
    "slideshow": {
     "slide_type": "fragment"
    },
    "tags": []
   },
   "outputs": [
    {
     "name": "stdout",
     "output_type": "stream",
     "text": [
      "2023-04-19 10:03:03\n",
      "Linux 9a81c6514b6e 5.15.82-0-virt #1-Alpine SMP Mon, 12 Dec 2022 09:15:17 +0000 aarch64 aarch64 aarch64 GNU/Linux\n"
     ]
    }
   ],
   "source": [
    "%%bash\n",
    "date +\"%Y-%m-%d %H:%M:%S\"\n",
    "uname -a"
   ]
  },
  {
   "cell_type": "markdown",
   "id": "a06fc2c6-94f6-447f-b54b-a4eebe0886c7",
   "metadata": {
    "slideshow": {
     "slide_type": "subslide"
    },
    "tags": [],
    "user_expressions": []
   },
   "source": [
    "## Conda\n",
    "\n",
    "Les environnements conda sont supportés et peuvent persistants (`/home/jovyan/work/my-conda-envs`). "
   ]
  },
  {
   "cell_type": "markdown",
   "id": "990b4e9d-35a5-4e84-bd3d-354f20c9f9cb",
   "metadata": {
    "slideshow": {
     "slide_type": "notes"
    },
    "tags": [],
    "user_expressions": []
   },
   "source": [
    "L'utilisation de conda est possible et si un noyau jupyter est installé dans un environnement (`ipykernel` pour Python), il est possible d'utiliser comme noyau d'un notebook.\n",
    "\n",
    "Les environnements \"personnels\" sont stockés dans `/home/jovyan/work/my-conda-envs` et peuvent donc être persistants. "
   ]
  },
  {
   "cell_type": "code",
   "execution_count": 9,
   "id": "7a473f2c-5f2e-4921-9b2b-63a00e8a04d2",
   "metadata": {
    "slideshow": {
     "slide_type": "fragment"
    },
    "tags": [
     "hide-output"
    ]
   },
   "outputs": [
    {
     "name": "stdout",
     "output_type": "stream",
     "text": [
      "Collecting package metadata (current_repodata.json): ...working... done\n",
      "Solving environment: ...working... done\n",
      "\n",
      "## Package Plan ##\n",
      "\n",
      "  environment location: /home/jovyan/work/my-conda-envs/hello-test\n",
      "\n",
      "  added / updated specs:\n",
      "    - ipykernel\n",
      "    - python=3.10\n",
      "\n",
      "\n",
      "The following packages will be downloaded:\n",
      "\n",
      "    package                    |            build\n",
      "    ---------------------------|-----------------\n",
      "    _openmp_mutex-4.5          |            2_gnu          23 KB  conda-forge\n",
      "    asttokens-2.2.1            |     pyhd8ed1ab_0          27 KB  conda-forge\n",
      "    backcall-0.2.0             |     pyh9f0ad1d_0          13 KB  conda-forge\n",
      "    backports-1.0              |     pyhd8ed1ab_3           6 KB  conda-forge\n",
      "    backports.functools_lru_cache-1.6.4|     pyhd8ed1ab_0           9 KB  conda-forge\n",
      "    bzip2-1.0.8                |       hf897c2e_4         396 KB  conda-forge\n",
      "    ca-certificates-2022.12.7  |       h4fd8a4c_0         143 KB  conda-forge\n",
      "    comm-0.1.3                 |     pyhd8ed1ab_0          11 KB  conda-forge\n",
      "    debugpy-1.6.7              |  py310hbc44c02_0         1.8 MB  conda-forge\n",
      "    decorator-5.1.1            |     pyhd8ed1ab_0          12 KB  conda-forge\n",
      "    executing-1.2.0            |     pyhd8ed1ab_0          24 KB  conda-forge\n",
      "    importlib-metadata-6.5.0   |     pyha770c72_0          25 KB  conda-forge\n",
      "    importlib_metadata-6.5.0   |       hd8ed1ab_0           9 KB  conda-forge\n",
      "    ipykernel-6.22.0           |     pyh210e3f2_0         109 KB  conda-forge\n",
      "    ipython-8.12.0             |     pyh41d4057_0         568 KB  conda-forge\n",
      "    jedi-0.18.2                |     pyhd8ed1ab_0         786 KB  conda-forge\n",
      "    jupyter_client-8.2.0       |     pyhd8ed1ab_0         102 KB  conda-forge\n",
      "    jupyter_core-5.3.0         |  py310h4c7bcd0_0          90 KB  conda-forge\n",
      "    ld_impl_linux-aarch64-2.40 |       h2d8c526_0         721 KB  conda-forge\n",
      "    libffi-3.4.2               |       h3557bc0_5          58 KB  conda-forge\n",
      "    libgcc-ng-12.2.0           |      h607ecd0_19         528 KB  conda-forge\n",
      "    libgomp-12.2.0             |      h607ecd0_19         455 KB  conda-forge\n",
      "    libnsl-2.0.0               |       hf897c2e_0          31 KB  conda-forge\n",
      "    libsodium-1.0.18           |       hb9de7d4_1         231 KB  conda-forge\n",
      "    libsqlite-3.40.0           |       hf9034f9_0        1005 KB  conda-forge\n",
      "    libstdcxx-ng-12.2.0        |      hc13a102_19         4.2 MB  conda-forge\n",
      "    libuuid-2.38.1             |       hb4cce97_0          35 KB  conda-forge\n",
      "    libzlib-1.2.13             |       h4e544f5_4          72 KB  conda-forge\n",
      "    matplotlib-inline-0.1.6    |     pyhd8ed1ab_0          12 KB  conda-forge\n",
      "    ncurses-6.3                |       headf329_1         1.1 MB  conda-forge\n",
      "    nest-asyncio-1.5.6         |     pyhd8ed1ab_0          10 KB  conda-forge\n",
      "    openssl-3.1.0              |       hb4cce97_0         2.5 MB  conda-forge\n",
      "    packaging-23.1             |     pyhd8ed1ab_0          45 KB  conda-forge\n",
      "    parso-0.8.3                |     pyhd8ed1ab_0          69 KB  conda-forge\n",
      "    pexpect-4.8.0              |     pyh1a96a4e_2          48 KB  conda-forge\n",
      "    pickleshare-0.7.5          |          py_1003           9 KB  conda-forge\n",
      "    pip-23.1                   |     pyhd8ed1ab_0         1.3 MB  conda-forge\n",
      "    platformdirs-3.2.0         |     pyhd8ed1ab_0          17 KB  conda-forge\n",
      "    prompt-toolkit-3.0.38      |     pyha770c72_0         263 KB  conda-forge\n",
      "    prompt_toolkit-3.0.38      |       hd8ed1ab_0           6 KB  conda-forge\n",
      "    psutil-5.9.5               |  py310hb89b984_0         356 KB  conda-forge\n",
      "    ptyprocess-0.7.0           |     pyhd3deb0d_0          16 KB  conda-forge\n",
      "    pure_eval-0.2.2            |     pyhd8ed1ab_0          14 KB  conda-forge\n",
      "    pygments-2.15.0            |     pyhd8ed1ab_0         821 KB  conda-forge\n",
      "    python-3.10.10             |ha43d526_0_cpython        12.4 MB  conda-forge\n",
      "    python-dateutil-2.8.2      |     pyhd8ed1ab_0         240 KB  conda-forge\n",
      "    python_abi-3.10            |          3_cp310           6 KB  conda-forge\n",
      "    pyzmq-25.0.2               |  py310h1438264_0         440 KB  conda-forge\n",
      "    readline-8.2               |       h8fc344f_1         287 KB  conda-forge\n",
      "    setuptools-67.6.1          |     pyhd8ed1ab_0         567 KB  conda-forge\n",
      "    six-1.16.0                 |     pyh6c4a22f_0          14 KB  conda-forge\n",
      "    stack_data-0.6.2           |     pyhd8ed1ab_0          26 KB  conda-forge\n",
      "    tk-8.6.12                  |       hd8af866_0         3.4 MB  conda-forge\n",
      "    tornado-6.3                |  py310h734f5e8_0         626 KB  conda-forge\n",
      "    traitlets-5.9.0            |     pyhd8ed1ab_0          96 KB  conda-forge\n",
      "    typing-extensions-4.5.0    |       hd8ed1ab_0           9 KB  conda-forge\n",
      "    typing_extensions-4.5.0    |     pyha770c72_0          31 KB  conda-forge\n",
      "    tzdata-2023c               |       h71feb2d_0         115 KB  conda-forge\n",
      "    wcwidth-0.2.6              |     pyhd8ed1ab_0          28 KB  conda-forge\n",
      "    wheel-0.40.0               |     pyhd8ed1ab_0          54 KB  conda-forge\n",
      "    xz-5.2.6                   |       h9cdd2b7_0         430 KB  conda-forge\n",
      "    zeromq-4.3.4               |       h01db608_1         380 KB  conda-forge\n",
      "    zipp-3.15.0                |     pyhd8ed1ab_0          17 KB  conda-forge\n",
      "    ------------------------------------------------------------\n",
      "                                           Total:        37.0 MB\n",
      "\n",
      "The following NEW packages will be INSTALLED:\n",
      "\n",
      "  _openmp_mutex      conda-forge/linux-aarch64::_openmp_mutex-4.5-2_gnu \n",
      "  asttokens          conda-forge/noarch::asttokens-2.2.1-pyhd8ed1ab_0 \n",
      "  backcall           conda-forge/noarch::backcall-0.2.0-pyh9f0ad1d_0 \n",
      "  backports          conda-forge/noarch::backports-1.0-pyhd8ed1ab_3 \n",
      "  backports.functoo~ conda-forge/noarch::backports.functools_lru_cache-1.6.4-pyhd8ed1ab_0 \n",
      "  bzip2              conda-forge/linux-aarch64::bzip2-1.0.8-hf897c2e_4 \n",
      "  ca-certificates    conda-forge/linux-aarch64::ca-certificates-2022.12.7-h4fd8a4c_0 \n",
      "  comm               conda-forge/noarch::comm-0.1.3-pyhd8ed1ab_0 \n",
      "  debugpy            conda-forge/linux-aarch64::debugpy-1.6.7-py310hbc44c02_0 \n",
      "  decorator          conda-forge/noarch::decorator-5.1.1-pyhd8ed1ab_0 \n",
      "  executing          conda-forge/noarch::executing-1.2.0-pyhd8ed1ab_0 \n",
      "  importlib-metadata conda-forge/noarch::importlib-metadata-6.5.0-pyha770c72_0 \n",
      "  importlib_metadata conda-forge/noarch::importlib_metadata-6.5.0-hd8ed1ab_0 \n",
      "  ipykernel          conda-forge/noarch::ipykernel-6.22.0-pyh210e3f2_0 \n",
      "  ipython            conda-forge/noarch::ipython-8.12.0-pyh41d4057_0 \n",
      "  jedi               conda-forge/noarch::jedi-0.18.2-pyhd8ed1ab_0 \n",
      "  jupyter_client     conda-forge/noarch::jupyter_client-8.2.0-pyhd8ed1ab_0 \n",
      "  jupyter_core       conda-forge/linux-aarch64::jupyter_core-5.3.0-py310h4c7bcd0_0 \n",
      "  ld_impl_linux-aar~ conda-forge/linux-aarch64::ld_impl_linux-aarch64-2.40-h2d8c526_0 \n",
      "  libffi             conda-forge/linux-aarch64::libffi-3.4.2-h3557bc0_5 \n",
      "  libgcc-ng          conda-forge/linux-aarch64::libgcc-ng-12.2.0-h607ecd0_19 \n",
      "  libgomp            conda-forge/linux-aarch64::libgomp-12.2.0-h607ecd0_19 \n",
      "  libnsl             conda-forge/linux-aarch64::libnsl-2.0.0-hf897c2e_0 \n",
      "  libsodium          conda-forge/linux-aarch64::libsodium-1.0.18-hb9de7d4_1 \n",
      "  libsqlite          conda-forge/linux-aarch64::libsqlite-3.40.0-hf9034f9_0 \n",
      "  libstdcxx-ng       conda-forge/linux-aarch64::libstdcxx-ng-12.2.0-hc13a102_19 \n",
      "  libuuid            conda-forge/linux-aarch64::libuuid-2.38.1-hb4cce97_0 \n",
      "  libzlib            conda-forge/linux-aarch64::libzlib-1.2.13-h4e544f5_4 \n",
      "  matplotlib-inline  conda-forge/noarch::matplotlib-inline-0.1.6-pyhd8ed1ab_0 \n",
      "  ncurses            conda-forge/linux-aarch64::ncurses-6.3-headf329_1 \n",
      "  nest-asyncio       conda-forge/noarch::nest-asyncio-1.5.6-pyhd8ed1ab_0 \n",
      "  openssl            conda-forge/linux-aarch64::openssl-3.1.0-hb4cce97_0 \n",
      "  packaging          conda-forge/noarch::packaging-23.1-pyhd8ed1ab_0 \n",
      "  parso              conda-forge/noarch::parso-0.8.3-pyhd8ed1ab_0 \n",
      "  pexpect            conda-forge/noarch::pexpect-4.8.0-pyh1a96a4e_2 \n",
      "  pickleshare        conda-forge/noarch::pickleshare-0.7.5-py_1003 \n",
      "  pip                conda-forge/noarch::pip-23.1-pyhd8ed1ab_0 \n",
      "  platformdirs       conda-forge/noarch::platformdirs-3.2.0-pyhd8ed1ab_0 \n",
      "  prompt-toolkit     conda-forge/noarch::prompt-toolkit-3.0.38-pyha770c72_0 \n",
      "  prompt_toolkit     conda-forge/noarch::prompt_toolkit-3.0.38-hd8ed1ab_0 \n",
      "  psutil             conda-forge/linux-aarch64::psutil-5.9.5-py310hb89b984_0 \n",
      "  ptyprocess         conda-forge/noarch::ptyprocess-0.7.0-pyhd3deb0d_0 \n",
      "  pure_eval          conda-forge/noarch::pure_eval-0.2.2-pyhd8ed1ab_0 \n",
      "  pygments           conda-forge/noarch::pygments-2.15.0-pyhd8ed1ab_0 \n",
      "  python             conda-forge/linux-aarch64::python-3.10.10-ha43d526_0_cpython \n",
      "  python-dateutil    conda-forge/noarch::python-dateutil-2.8.2-pyhd8ed1ab_0 \n",
      "  python_abi         conda-forge/linux-aarch64::python_abi-3.10-3_cp310 \n",
      "  pyzmq              conda-forge/linux-aarch64::pyzmq-25.0.2-py310h1438264_0 \n",
      "  readline           conda-forge/linux-aarch64::readline-8.2-h8fc344f_1 \n",
      "  setuptools         conda-forge/noarch::setuptools-67.6.1-pyhd8ed1ab_0 \n",
      "  six                conda-forge/noarch::six-1.16.0-pyh6c4a22f_0 \n",
      "  stack_data         conda-forge/noarch::stack_data-0.6.2-pyhd8ed1ab_0 \n",
      "  tk                 conda-forge/linux-aarch64::tk-8.6.12-hd8af866_0 \n",
      "  tornado            conda-forge/linux-aarch64::tornado-6.3-py310h734f5e8_0 \n",
      "  traitlets          conda-forge/noarch::traitlets-5.9.0-pyhd8ed1ab_0 \n",
      "  typing-extensions  conda-forge/noarch::typing-extensions-4.5.0-hd8ed1ab_0 \n",
      "  typing_extensions  conda-forge/noarch::typing_extensions-4.5.0-pyha770c72_0 \n",
      "  tzdata             conda-forge/noarch::tzdata-2023c-h71feb2d_0 \n",
      "  wcwidth            conda-forge/noarch::wcwidth-0.2.6-pyhd8ed1ab_0 \n",
      "  wheel              conda-forge/noarch::wheel-0.40.0-pyhd8ed1ab_0 \n",
      "  xz                 conda-forge/linux-aarch64::xz-5.2.6-h9cdd2b7_0 \n",
      "  zeromq             conda-forge/linux-aarch64::zeromq-4.3.4-h01db608_1 \n",
      "  zipp               conda-forge/noarch::zipp-3.15.0-pyhd8ed1ab_0 \n",
      "\n",
      "\n",
      "Preparing transaction: ...working... done\n",
      "Verifying transaction: ...working... done\n",
      "Executing transaction: ...working... done\n"
     ]
    }
   ],
   "source": [
    "%%bash\n",
    "conda create --yes --quiet \\\n",
    "  --name hello-test \\\n",
    "  python=3.10 \\\n",
    "   ipykernel"
   ]
  },
  {
   "cell_type": "markdown",
   "id": "209370a5-031e-47c2-ba16-e318bd5b38eb",
   "metadata": {
    "user_expressions": []
   },
   "source": [
    "L'environnement `hello-test` est maintenant utilisable dans un shell ou comme noyau d'un notebook (cf. \"new launcher\")."
   ]
  },
  {
   "cell_type": "code",
   "execution_count": 10,
   "id": "48e5ad3b-bfa0-4e6a-ac23-77a70729abd5",
   "metadata": {
    "slideshow": {
     "slide_type": "subslide"
    },
    "tags": []
   },
   "outputs": [
    {
     "name": "stdout",
     "output_type": "stream",
     "text": [
      "Python 3.10.10\n"
     ]
    }
   ],
   "source": [
    "%%bash\n",
    "source activate hello-test\n",
    "python --version"
   ]
  },
  {
   "cell_type": "code",
   "execution_count": 11,
   "id": "1f5b27e6-6efd-4e4b-8047-c1156aed0894",
   "metadata": {
    "slideshow": {
     "slide_type": "subslide"
    },
    "tags": []
   },
   "outputs": [
    {
     "name": "stdout",
     "output_type": "stream",
     "text": [
      "Python 3.10.10\n"
     ]
    }
   ],
   "source": [
    "%%bash\n",
    "python --version"
   ]
  },
  {
   "cell_type": "code",
   "execution_count": 12,
   "id": "f231e2f9-db6e-4d47-a4b7-f7894f685e7a",
   "metadata": {
    "slideshow": {
     "slide_type": "subslide"
    },
    "tags": []
   },
   "outputs": [
    {
     "name": "stdout",
     "output_type": "stream",
     "text": [
      "3.10.10 | packaged by conda-forge | (main, Mar 24 2023, 19:56:21) [GCC 11.3.0]\n"
     ]
    }
   ],
   "source": [
    "import sys\n",
    "\n",
    "print(sys.version)"
   ]
  },
  {
   "cell_type": "markdown",
   "id": "f54bc696-6f58-416f-971e-6e7f7b9daa28",
   "metadata": {
    "slideshow": {
     "slide_type": "slide"
    },
    "tags": [],
    "user_expressions": []
   },
   "source": [
    "## Git\n",
    "\n",
    "Disponible :\n",
    "  * depuis l'interface pour les commandes et la comparaison de notebooks\n",
    "  * classiquement en ligne de commande (`.ssh` dans `~/work`)."
   ]
  },
  {
   "cell_type": "code",
   "execution_count": 13,
   "id": "7f996bc4-5ad6-4b29-884f-2fa243275467",
   "metadata": {
    "slideshow": {
     "slide_type": "fragment"
    },
    "tags": []
   },
   "outputs": [
    {
     "name": "stdout",
     "output_type": "stream",
     "text": [
      "git version 2.34.1\n"
     ]
    }
   ],
   "source": [
    "%%bash \n",
    "git --version"
   ]
  },
  {
   "cell_type": "code",
   "execution_count": 14,
   "id": "b95f99c2-c8c8-45a7-9d5a-9b9e8a229b6e",
   "metadata": {
    "slideshow": {
     "slide_type": "fragment"
    },
    "tags": []
   },
   "outputs": [
    {
     "name": "stderr",
     "output_type": "stream",
     "text": [
      "Cloning into '/home/jovyan/work/github/ebpro/sample-python'...\n"
     ]
    },
    {
     "name": "stdout",
     "output_type": "stream",
     "text": [
      "Processing /home/jovyan/work/github/ebpro/sample-python\n",
      "  Preparing metadata (setup.py): started\n",
      "  Preparing metadata (setup.py): finished with status 'done'\n",
      "Building wheels for collected packages: sample-python\n",
      "  Building wheel for sample-python (setup.py): started\n",
      "  Building wheel for sample-python (setup.py): finished with status 'done'\n",
      "  Created wheel for sample-python: filename=sample_python-0.0.1-py3-none-any.whl size=2624 sha256=2c60f4203d5d882704ca7bcfa78a65545a496bfa418d445ef022a5ae42434ec2\n",
      "  Stored in directory: /home/jovyan/work/var/cache/buildkit/pip/wheels/fb/0f/29/7f3d2969175c3d9e9bf1ea9c7d948f78a74876e3447c5bfe55\n",
      "Successfully built sample-python\n",
      "Installing collected packages: sample-python\n",
      "Successfully installed sample-python-0.0.1\n"
     ]
    }
   ],
   "source": [
    "%%bash\n",
    "git clone https://github.com/ebpro/sample-python.git \\\n",
    "         /home/jovyan/work/github/ebpro/sample-python\n",
    "\n",
    "cd /home/jovyan/work/github/ebpro/sample-python\n",
    "python -m pip install ."
   ]
  },
  {
   "cell_type": "code",
   "execution_count": 15,
   "id": "f6847b3c-b14e-4176-bd4f-db400e82b691",
   "metadata": {
    "slideshow": {
     "slide_type": "fragment"
    },
    "tags": [
     "remove-cell"
    ]
   },
   "outputs": [],
   "source": [
    "import iplantuml"
   ]
  },
  {
   "cell_type": "code",
   "execution_count": 16,
   "id": "ed7da4ef-1e2a-444f-9622-a037dcb720b4",
   "metadata": {
    "slideshow": {
     "slide_type": "fragment"
    },
    "tags": [
     "remove-input",
     "hide-input"
    ]
   },
   "outputs": [
    {
     "data": {
      "image/svg+xml": [
       "<svg xmlns=\"http://www.w3.org/2000/svg\" xmlns:xlink=\"http://www.w3.org/1999/xlink\" contentScriptType=\"application/ecmascript\" contentStyleType=\"text/css\" height=\"215px\" preserveAspectRatio=\"none\" style=\"width:300px;height:215px;\" version=\"1.1\" viewBox=\"0 0 300 215\" width=\"300px\" zoomAndPan=\"magnify\"><defs><filter height=\"300%\" id=\"fn3yvorrca0j1\" width=\"300%\" x=\"-1\" y=\"-1\"><feGaussianBlur result=\"blurOut\" stdDeviation=\"2.0\"/><feColorMatrix in=\"blurOut\" result=\"blurOut2\" type=\"matrix\" values=\"0 0 0 0 0 0 0 0 0 0 0 0 0 0 0 0 0 0 .4 0\"/><feOffset dx=\"4.0\" dy=\"4.0\" in=\"blurOut2\" result=\"blurOut3\"/><feBlend in=\"SourceGraphic\" in2=\"blurOut3\" mode=\"normal\"/></filter></defs><g><line style=\"stroke: #A80036; stroke-width: 1.0; stroke-dasharray: 5.0,5.0;\" x1=\"33\" x2=\"33\" y1=\"38.2969\" y2=\"174.8281\"/><line style=\"stroke: #A80036; stroke-width: 1.0; stroke-dasharray: 5.0,5.0;\" x1=\"270\" x2=\"270\" y1=\"38.2969\" y2=\"174.8281\"/><rect fill=\"#FEFECE\" filter=\"url(#fn3yvorrca0j1)\" height=\"30.2969\" style=\"stroke: #A80036; stroke-width: 1.5;\" width=\"46\" x=\"8\" y=\"3\"/><text fill=\"#000000\" font-family=\"sans-serif\" font-size=\"14\" lengthAdjust=\"spacingAndGlyphs\" textLength=\"32\" x=\"15\" y=\"22.9951\">Alice</text><rect fill=\"#FEFECE\" filter=\"url(#fn3yvorrca0j1)\" height=\"30.2969\" style=\"stroke: #A80036; stroke-width: 1.5;\" width=\"46\" x=\"8\" y=\"173.8281\"/><text fill=\"#000000\" font-family=\"sans-serif\" font-size=\"14\" lengthAdjust=\"spacingAndGlyphs\" textLength=\"32\" x=\"15\" y=\"193.8232\">Alice</text><rect fill=\"#FEFECE\" filter=\"url(#fn3yvorrca0j1)\" height=\"30.2969\" style=\"stroke: #A80036; stroke-width: 1.5;\" width=\"42\" x=\"247\" y=\"3\"/><text fill=\"#000000\" font-family=\"sans-serif\" font-size=\"14\" lengthAdjust=\"spacingAndGlyphs\" textLength=\"28\" x=\"254\" y=\"22.9951\">Bob</text><rect fill=\"#FEFECE\" filter=\"url(#fn3yvorrca0j1)\" height=\"30.2969\" style=\"stroke: #A80036; stroke-width: 1.5;\" width=\"42\" x=\"247\" y=\"173.8281\"/><text fill=\"#000000\" font-family=\"sans-serif\" font-size=\"14\" lengthAdjust=\"spacingAndGlyphs\" textLength=\"28\" x=\"254\" y=\"193.8232\">Bob</text><polygon fill=\"#A80036\" points=\"258,65.4297,268,69.4297,258,73.4297,262,69.4297\" style=\"stroke: #A80036; stroke-width: 1.0;\"/><line style=\"stroke: #A80036; stroke-width: 1.0;\" x1=\"33\" x2=\"264\" y1=\"69.4297\" y2=\"69.4297\"/><text fill=\"#000000\" font-family=\"sans-serif\" font-size=\"13\" lengthAdjust=\"spacingAndGlyphs\" textLength=\"149\" x=\"40\" y=\"64.3638\">Authentication Request</text><polygon fill=\"#A80036\" points=\"44,94.5625,34,98.5625,44,102.5625,40,98.5625\" style=\"stroke: #A80036; stroke-width: 1.0;\"/><line style=\"stroke: #A80036; stroke-width: 1.0; stroke-dasharray: 2.0,2.0;\" x1=\"38\" x2=\"269\" y1=\"98.5625\" y2=\"98.5625\"/><text fill=\"#000000\" font-family=\"sans-serif\" font-size=\"13\" lengthAdjust=\"spacingAndGlyphs\" textLength=\"159\" x=\"50\" y=\"93.4966\">Authentication Response</text><polygon fill=\"#A80036\" points=\"258,123.6953,268,127.6953,258,131.6953,262,127.6953\" style=\"stroke: #A80036; stroke-width: 1.0;\"/><line style=\"stroke: #A80036; stroke-width: 1.0;\" x1=\"33\" x2=\"264\" y1=\"127.6953\" y2=\"127.6953\"/><text fill=\"#000000\" font-family=\"sans-serif\" font-size=\"13\" lengthAdjust=\"spacingAndGlyphs\" textLength=\"203\" x=\"40\" y=\"122.6294\">Another authentication Request</text><polygon fill=\"#A80036\" points=\"44,152.8281,34,156.8281,44,160.8281,40,156.8281\" style=\"stroke: #A80036; stroke-width: 1.0;\"/><line style=\"stroke: #A80036; stroke-width: 1.0; stroke-dasharray: 2.0,2.0;\" x1=\"38\" x2=\"269\" y1=\"156.8281\" y2=\"156.8281\"/><text fill=\"#000000\" font-family=\"sans-serif\" font-size=\"13\" lengthAdjust=\"spacingAndGlyphs\" textLength=\"213\" x=\"50\" y=\"151.7622\">Another authentication Response</text><!--MD5=[1d6f20096108edb94adca4cbf5ef001d]\n",
       "@startuml\n",
       "Alice -> Bob: Authentication Request\n",
       "Bob - -> Alice: Authentication Response\n",
       "\n",
       "Alice -> Bob: Another authentication Request\n",
       "Alice <- - Bob: Another authentication Response\n",
       "@enduml\n",
       "\n",
       "PlantUML version 1.2020.02(Sun Mar 01 10:22:07 UTC 2020)\n",
       "(GPL source distribution)\n",
       "Java Runtime: OpenJDK Runtime Environment\n",
       "JVM: OpenJDK 64-Bit Server VM\n",
       "Java Version: 11.0.18+10-post-Ubuntu-0ubuntu122.04\n",
       "Operating System: Linux\n",
       "Default Encoding: UTF-8\n",
       "Language: en\n",
       "Country: US\n",
       "--></g></svg>"
      ],
      "text/plain": [
       "<IPython.core.display.SVG object>"
      ]
     },
     "execution_count": 16,
     "metadata": {},
     "output_type": "execute_result"
    }
   ],
   "source": [
    "%%plantuml --jar\n",
    "\n",
    "@startuml\n",
    "Alice -> Bob: Authentication Request\n",
    "Bob --> Alice: Authentication Response\n",
    "\n",
    "Alice -> Bob: Another authentication Request\n",
    "Alice <-- Bob: Another authentication Response\n",
    "@enduml"
   ]
  },
  {
   "cell_type": "markdown",
   "id": "3f62d203-4868-4cc8-8905-74d5b0dd9d81",
   "metadata": {
    "user_expressions": []
   },
   "source": [
    "```{uml}\n",
    "Alice -> Bob: Hi!\n",
    "Alice <- Bob: How are you?\n",
    "```"
   ]
  },
  {
   "cell_type": "markdown",
   "id": "b4c65d37-2a33-4983-b0f5-984da15f2f9f",
   "metadata": {
    "user_expressions": []
   },
   "source": [
    "```{warning} This is my warning\n",
    "bla\n",
    "```"
   ]
  },
  {
   "cell_type": "markdown",
   "id": "c6b8bdb8-e501-4557-be51-bc2130dcba23",
   "metadata": {
    "user_expressions": []
   },
   "source": [
    "$$\n",
    "a^2 + b^2 = c^2\n",
    "$$(eqn:pyth)\n",
    "\n",
    "Pythagore cf. {eq}`eqn:pyth`"
   ]
  },
  {
   "cell_type": "markdown",
   "id": "c60ddcfe-cbcc-4eec-a355-7621885e7ca9",
   "metadata": {
    "user_expressions": []
   },
   "source": [
    "\\begin{align}\n",
    "a_{11}& =b_{11}&\n",
    "  a_{12}& =b_{12}\\\\\n",
    "a_{21}& =b_{21}&\n",
    "  a_{22}& =b_{22}+c_{22}\n",
    "\\end{align}"
   ]
  },
  {
   "cell_type": "markdown",
   "id": "e388047e-b8a6-4854-a7c3-f63824b5a81d",
   "metadata": {
    "user_expressions": []
   },
   "source": [
    "```{list-table} Table title\n",
    ":header-rows: 1\n",
    ":name: label-to-reference\n",
    "\n",
    "* - Col1\n",
    "  - Col2\n",
    "* - Row1 under Col1\n",
    "  - Row1 under Col2\n",
    "* - Row2 under Col1\n",
    "  - Row2 under Col2\n",
    "```"
   ]
  },
  {
   "cell_type": "code",
   "execution_count": null,
   "id": "ee1885a7-92aa-4246-bd97-a3ed03010cf4",
   "metadata": {},
   "outputs": [],
   "source": []
  },
  {
   "cell_type": "code",
   "execution_count": null,
   "id": "66347045-932b-4512-ae69-470ca51b1dcc",
   "metadata": {},
   "outputs": [],
   "source": []
  }
 ],
 "metadata": {
  "kernelspec": {
   "display_name": "Python 3 (ipykernel)",
   "language": "python",
   "name": "python3"
  },
  "language_info": {
   "codemirror_mode": {
    "name": "ipython",
    "version": 3
   },
   "file_extension": ".py",
   "mimetype": "text/x-python",
   "name": "python",
   "nbconvert_exporter": "python",
   "pygments_lexer": "ipython3",
   "version": "3.10.10"
  }
 },
 "nbformat": 4,
 "nbformat_minor": 5
}

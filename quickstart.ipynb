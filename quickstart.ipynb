{
 "cells": [
  {
   "cell_type": "markdown",
   "id": "baeb31ec-ca39-49d1-9d43-cad4808c53be",
   "metadata": {
    "tags": [],
    "user_expressions": []
   },
   "source": [
    "# Quickstart for Jupyter base notebook"
   ]
  },
  {
   "cell_type": "markdown",
   "id": "33102a08-870e-41de-89f3-261229b0cf8b",
   "metadata": {
    "user_expressions": []
   },
   "source": [
    "## Python"
   ]
  },
  {
   "cell_type": "code",
   "execution_count": 1,
   "id": "69f6863b-6547-4e0e-9c8c-62664db684c0",
   "metadata": {
    "tags": []
   },
   "outputs": [
    {
     "name": "stdout",
     "output_type": "stream",
     "text": [
      "Hello\n"
     ]
    }
   ],
   "source": [
    "text=\"Hello\"\n",
    "print(text)"
   ]
  },
  {
   "cell_type": "markdown",
   "id": "642a4b7b-42f8-48da-8f17-f6920e45a9ec",
   "metadata": {
    "user_expressions": []
   },
   "source": [
    "## Bash"
   ]
  },
  {
   "cell_type": "code",
   "execution_count": 3,
   "id": "b9832d2a-df8d-484f-a783-126e57e9353a",
   "metadata": {
    "tags": []
   },
   "outputs": [
    {
     "name": "stdout",
     "output_type": "stream",
     "text": [
      "Linux b891c201ed3e 5.15.49-linuxkit #1 SMP PREEMPT Tue Sep 13 07:51:32 UTC 2022 aarch64 aarch64 aarch64 GNU/Linux\n"
     ]
    }
   ],
   "source": [
    "%%bash\n",
    "uname -a"
   ]
  },
  {
   "cell_type": "markdown",
   "id": "f54bc696-6f58-416f-971e-6e7f7b9daa28",
   "metadata": {
    "user_expressions": []
   },
   "source": [
    "## Git"
   ]
  },
  {
   "cell_type": "code",
   "execution_count": 4,
   "id": "7f996bc4-5ad6-4b29-884f-2fa243275467",
   "metadata": {
    "tags": []
   },
   "outputs": [
    {
     "name": "stdout",
     "output_type": "stream",
     "text": [
      "git version 2.34.1\n"
     ]
    }
   ],
   "source": [
    "%%bash \n",
    "git --version"
   ]
  },
  {
   "cell_type": "markdown",
   "id": "5e04c9ae-3445-455e-99ed-071d1b57abb5",
   "metadata": {
    "user_expressions": []
   },
   "source": [
    "## UML"
   ]
  },
  {
   "cell_type": "code",
   "execution_count": 5,
   "id": "f6847b3c-b14e-4176-bd4f-db400e82b691",
   "metadata": {
    "tags": [
     "remove-cell"
    ]
   },
   "outputs": [],
   "source": [
    "import iplantuml"
   ]
  },
  {
   "cell_type": "code",
   "execution_count": 6,
   "id": "ed7da4ef-1e2a-444f-9622-a037dcb720b4",
   "metadata": {
    "tags": [
     "remove-input"
    ]
   },
   "outputs": [
    {
     "data": {
      "image/svg+xml": [
       "<svg xmlns=\"http://www.w3.org/2000/svg\" xmlns:xlink=\"http://www.w3.org/1999/xlink\" contentScriptType=\"application/ecmascript\" contentStyleType=\"text/css\" height=\"215px\" preserveAspectRatio=\"none\" style=\"width:300px;height:215px;\" version=\"1.1\" viewBox=\"0 0 300 215\" width=\"300px\" zoomAndPan=\"magnify\"><defs><filter height=\"300%\" id=\"fn3yvorrca0j1\" width=\"300%\" x=\"-1\" y=\"-1\"><feGaussianBlur result=\"blurOut\" stdDeviation=\"2.0\"/><feColorMatrix in=\"blurOut\" result=\"blurOut2\" type=\"matrix\" values=\"0 0 0 0 0 0 0 0 0 0 0 0 0 0 0 0 0 0 .4 0\"/><feOffset dx=\"4.0\" dy=\"4.0\" in=\"blurOut2\" result=\"blurOut3\"/><feBlend in=\"SourceGraphic\" in2=\"blurOut3\" mode=\"normal\"/></filter></defs><g><line style=\"stroke: #A80036; stroke-width: 1.0; stroke-dasharray: 5.0,5.0;\" x1=\"33\" x2=\"33\" y1=\"38.2969\" y2=\"174.8281\"/><line style=\"stroke: #A80036; stroke-width: 1.0; stroke-dasharray: 5.0,5.0;\" x1=\"270\" x2=\"270\" y1=\"38.2969\" y2=\"174.8281\"/><rect fill=\"#FEFECE\" filter=\"url(#fn3yvorrca0j1)\" height=\"30.2969\" style=\"stroke: #A80036; stroke-width: 1.5;\" width=\"46\" x=\"8\" y=\"3\"/><text fill=\"#000000\" font-family=\"sans-serif\" font-size=\"14\" lengthAdjust=\"spacingAndGlyphs\" textLength=\"32\" x=\"15\" y=\"22.9951\">Alice</text><rect fill=\"#FEFECE\" filter=\"url(#fn3yvorrca0j1)\" height=\"30.2969\" style=\"stroke: #A80036; stroke-width: 1.5;\" width=\"46\" x=\"8\" y=\"173.8281\"/><text fill=\"#000000\" font-family=\"sans-serif\" font-size=\"14\" lengthAdjust=\"spacingAndGlyphs\" textLength=\"32\" x=\"15\" y=\"193.8232\">Alice</text><rect fill=\"#FEFECE\" filter=\"url(#fn3yvorrca0j1)\" height=\"30.2969\" style=\"stroke: #A80036; stroke-width: 1.5;\" width=\"42\" x=\"247\" y=\"3\"/><text fill=\"#000000\" font-family=\"sans-serif\" font-size=\"14\" lengthAdjust=\"spacingAndGlyphs\" textLength=\"28\" x=\"254\" y=\"22.9951\">Bob</text><rect fill=\"#FEFECE\" filter=\"url(#fn3yvorrca0j1)\" height=\"30.2969\" style=\"stroke: #A80036; stroke-width: 1.5;\" width=\"42\" x=\"247\" y=\"173.8281\"/><text fill=\"#000000\" font-family=\"sans-serif\" font-size=\"14\" lengthAdjust=\"spacingAndGlyphs\" textLength=\"28\" x=\"254\" y=\"193.8232\">Bob</text><polygon fill=\"#A80036\" points=\"258,65.4297,268,69.4297,258,73.4297,262,69.4297\" style=\"stroke: #A80036; stroke-width: 1.0;\"/><line style=\"stroke: #A80036; stroke-width: 1.0;\" x1=\"33\" x2=\"264\" y1=\"69.4297\" y2=\"69.4297\"/><text fill=\"#000000\" font-family=\"sans-serif\" font-size=\"13\" lengthAdjust=\"spacingAndGlyphs\" textLength=\"149\" x=\"40\" y=\"64.3638\">Authentication Request</text><polygon fill=\"#A80036\" points=\"44,94.5625,34,98.5625,44,102.5625,40,98.5625\" style=\"stroke: #A80036; stroke-width: 1.0;\"/><line style=\"stroke: #A80036; stroke-width: 1.0; stroke-dasharray: 2.0,2.0;\" x1=\"38\" x2=\"269\" y1=\"98.5625\" y2=\"98.5625\"/><text fill=\"#000000\" font-family=\"sans-serif\" font-size=\"13\" lengthAdjust=\"spacingAndGlyphs\" textLength=\"159\" x=\"50\" y=\"93.4966\">Authentication Response</text><polygon fill=\"#A80036\" points=\"258,123.6953,268,127.6953,258,131.6953,262,127.6953\" style=\"stroke: #A80036; stroke-width: 1.0;\"/><line style=\"stroke: #A80036; stroke-width: 1.0;\" x1=\"33\" x2=\"264\" y1=\"127.6953\" y2=\"127.6953\"/><text fill=\"#000000\" font-family=\"sans-serif\" font-size=\"13\" lengthAdjust=\"spacingAndGlyphs\" textLength=\"203\" x=\"40\" y=\"122.6294\">Another authentication Request</text><polygon fill=\"#A80036\" points=\"44,152.8281,34,156.8281,44,160.8281,40,156.8281\" style=\"stroke: #A80036; stroke-width: 1.0;\"/><line style=\"stroke: #A80036; stroke-width: 1.0; stroke-dasharray: 2.0,2.0;\" x1=\"38\" x2=\"269\" y1=\"156.8281\" y2=\"156.8281\"/><text fill=\"#000000\" font-family=\"sans-serif\" font-size=\"13\" lengthAdjust=\"spacingAndGlyphs\" textLength=\"213\" x=\"50\" y=\"151.7622\">Another authentication Response</text><!--MD5=[1d6f20096108edb94adca4cbf5ef001d]\n",
       "@startuml\n",
       "Alice -> Bob: Authentication Request\n",
       "Bob - -> Alice: Authentication Response\n",
       "\n",
       "Alice -> Bob: Another authentication Request\n",
       "Alice <- - Bob: Another authentication Response\n",
       "@enduml\n",
       "\n",
       "PlantUML version 1.2020.02(Sun Mar 01 10:22:07 UTC 2020)\n",
       "(GPL source distribution)\n",
       "Java Runtime: OpenJDK Runtime Environment\n",
       "JVM: OpenJDK 64-Bit Server VM\n",
       "Java Version: 11.0.18+10-post-Ubuntu-0ubuntu122.04\n",
       "Operating System: Linux\n",
       "Default Encoding: UTF-8\n",
       "Language: en\n",
       "Country: US\n",
       "--></g></svg>"
      ],
      "text/plain": [
       "<IPython.core.display.SVG object>"
      ]
     },
     "execution_count": 6,
     "metadata": {},
     "output_type": "execute_result"
    }
   ],
   "source": [
    "%%plantuml --jar\n",
    "\n",
    "@startuml\n",
    "Alice -> Bob: Authentication Request\n",
    "Bob --> Alice: Authentication Response\n",
    "\n",
    "Alice -> Bob: Another authentication Request\n",
    "Alice <-- Bob: Another authentication Response\n",
    "@enduml"
   ]
  },
  {
   "cell_type": "markdown",
   "id": "800287e2-b904-40be-b20f-f6d572395b7f",
   "metadata": {
    "user_expressions": []
   },
   "source": [
    "## Extended markdown"
   ]
  },
  {
   "cell_type": "markdown",
   "id": "35b7e483-e14e-4e54-a25b-38dced0f380f",
   "metadata": {
    "user_expressions": []
   },
   "source": [
    "<https://jupyterbook.org/en/stable/reference/cheatsheet.html>"
   ]
  },
  {
   "cell_type": "markdown",
   "id": "f0fe93fd-92dd-4590-be09-279adbb3fbae",
   "metadata": {
    "tags": [],
    "user_expressions": []
   },
   "source": [
    "```{note}\n",
    "Here is a note\n",
    "```"
   ]
  },
  {
   "cell_type": "markdown",
   "id": "b4c65d37-2a33-4983-b0f5-984da15f2f9f",
   "metadata": {
    "user_expressions": []
   },
   "source": [
    "```{warning} This is my warning\n",
    "bla\n",
    "```"
   ]
  },
  {
   "cell_type": "markdown",
   "id": "c6b8bdb8-e501-4557-be51-bc2130dcba23",
   "metadata": {
    "user_expressions": []
   },
   "source": [
    "$$\n",
    "a^2 + b^2 = c^2\n",
    "$$(eqn:pyth)\n",
    "\n",
    "Pythagore cf. {eq}`eqn:pyth`"
   ]
  },
  {
   "cell_type": "markdown",
   "id": "c60ddcfe-cbcc-4eec-a355-7621885e7ca9",
   "metadata": {
    "user_expressions": []
   },
   "source": [
    "\\begin{align}\n",
    "a_{11}& =b_{11}&\n",
    "  a_{12}& =b_{12}\\\\\n",
    "a_{21}& =b_{21}&\n",
    "  a_{22}& =b_{22}+c_{22}\n",
    "\\end{align}"
   ]
  },
  {
   "cell_type": "markdown",
   "id": "e388047e-b8a6-4854-a7c3-f63824b5a81d",
   "metadata": {
    "user_expressions": []
   },
   "source": [
    "```{list-table} Table title\n",
    ":header-rows: 1\n",
    ":name: label-to-reference\n",
    "\n",
    "* - Col1\n",
    "  - Col2\n",
    "* - Row1 under Col1\n",
    "  - Row1 under Col2\n",
    "* - Row2 under Col1\n",
    "  - Row2 under Col2\n",
    "```"
   ]
  }
 ],
 "metadata": {
  "kernelspec": {
   "display_name": "Python 3 (ipykernel)",
   "language": "python",
   "name": "python3"
  },
  "language_info": {
   "codemirror_mode": {
    "name": "ipython",
    "version": 3
   },
   "file_extension": ".py",
   "mimetype": "text/x-python",
   "name": "python",
   "nbconvert_exporter": "python",
   "pygments_lexer": "ipython3",
   "version": "3.10.9"
  }
 },
 "nbformat": 4,
 "nbformat_minor": 5
}

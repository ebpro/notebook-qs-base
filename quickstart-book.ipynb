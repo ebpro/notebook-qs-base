{
 "cells": [
  {
   "cell_type": "markdown",
   "id": "a0074533-2d1c-489e-be74-12cdbdaecbb3",
   "metadata": {
    "tags": [],
    "user_expressions": []
   },
   "source": [
    "# A Book from Base\n",
    "\n",
    "## Introduction\n",
    "\n",
    "Il est aussi possible d'écrire des livres jupyter book donc à contenu dynamique avec une syntaxe étendue de markdown : <https://jupyterbook.org/en/stable/reference/cheatsheet.html>"
   ]
  },
  {
   "cell_type": "markdown",
   "id": "4f5cce20-c342-4b79-848b-3b221ddc115b",
   "metadata": {
    "tags": [],
    "user_expressions": []
   },
   "source": [
    "## Blocs\n",
    "\n",
    "Avec des citations :\n",
    "\n",
    "> this is a nice book. \n",
    "\n",
    "```{epigraph}\n",
    "Real cool book.\n",
    "-- John Doe\n",
    "```\n",
    "\n",
    "A footnote[^mylabel]: My footnote text."
   ]
  },
  {
   "cell_type": "markdown",
   "id": "dee7f519-0067-4d5a-b137-41a44ed9ab2a",
   "metadata": {
    "tags": [],
    "user_expressions": []
   },
   "source": [
    "des blocs\n",
    "\n",
    "```{note}\n",
    "Here is a note (not working in slides).\n",
    "```\n",
    "\n",
    "```{warning} Avertissement\n",
    "C'est un outil addictif.\n",
    "```"
   ]
  },
  {
   "cell_type": "markdown",
   "id": "5f5177f8-db62-4ee6-9436-8617f8471a23",
   "metadata": {
    "tags": [],
    "user_expressions": []
   },
   "source": [
    "## Tables\n",
    "\n",
    "Des tables et figures plus avancées comme {numref}`t_ex-table-01` qui est un exemple de table avec référence. \n",
    "\n",
    "```{list-table} Table title\n",
    ":name: t_ex-table-01\n",
    ":header-rows: 1\n",
    "\n",
    "* - Col1\n",
    "  - Col2\n",
    "* - Row1 under Col1\n",
    "  - Row1 under Col2\n",
    "* - Row2 under Col1\n",
    "  - Row2 under Col2\n",
    "```"
   ]
  },
  {
   "cell_type": "markdown",
   "id": "63044cb9-5756-4e1e-b462-ed6dd6af6a8a",
   "metadata": {
    "tags": [],
    "user_expressions": []
   },
   "source": [
    "## Math\n",
    "\n",
    "Ou des Mathématiques \n",
    "\n",
    "soit en ligne dans le texte ($z=\\sqrt{x^2+y^2}$).\n",
    "\n",
    "mais avec des références dans les équations :\n",
    "\n",
    "$$\n",
    "a^2 + b^2 = c^2\n",
    "$$(eqn:pyth)\n",
    "\n",
    "Pythagore cf. {eq}`eqn:pyth`"
   ]
  },
  {
   "cell_type": "markdown",
   "id": "a6fc252d-ddb4-48d4-8534-f87eaf199f7e",
   "metadata": {
    "tags": [],
    "user_expressions": []
   },
   "source": [
    "mais aussi des environnements LaTeX comme `align`\n",
    "\n",
    "\\begin{align}\n",
    "a_{11}& =b_{11}&\n",
    "  a_{12}& =b_{12}\\\\\n",
    "a_{21}& =b_{21}&\n",
    "  a_{22}& =b_{22}+c_{22}\n",
    "\\end{align}"
   ]
  },
  {
   "cell_type": "markdown",
   "id": "8fd894e3-529d-4d49-a2e8-164e6234e111",
   "metadata": {
    "user_expressions": []
   },
   "source": [
    "## Code\n",
    "\n",
    "Il est possible de mettre du code dans le texte : \n",
    "\n",
    "en blocs :\n",
    "\n",
    "```python\n",
    "note = \"Python\"\n",
    "print(node)\n",
    "```\n",
    "\n",
    "```java\n",
    "String note = \"Java\";\n",
    "System.out.println(node);\n",
    "```\n",
    "\n",
    "ou en ligne : {python}` for i in range(1,5)` "
   ]
  },
  {
   "cell_type": "code",
   "execution_count": 7,
   "id": "1a915546-c484-4ed4-81c1-07473db6bcc9",
   "metadata": {
    "tags": []
   },
   "outputs": [
    {
     "data": {
      "text/plain": [
       "'here is some text!'"
      ]
     },
     "metadata": {
      "scrapbook": {
       "mime_prefix": "",
       "name": "glued_text"
      }
     },
     "output_type": "display_data"
    },
    {
     "data": {
      "text/plain": [
       "45"
      ]
     },
     "metadata": {
      "scrapbook": {
       "mime_prefix": "",
       "name": "ss_sum"
      }
     },
     "output_type": "display_data"
    }
   ],
   "source": [
    "from myst_nb import glue\n",
    "my_variable = \"here is some text!\"\n",
    "sum=0\n",
    "for i in range(1,10):\n",
    "    sum+=i\n",
    "glue(\"glued_text\", my_variable)\n",
    "glue(\"ss_sum\", sum)"
   ]
  },
  {
   "cell_type": "markdown",
   "id": "f66fe296-75e2-456b-939c-ff3b23e5ef99",
   "metadata": {
    "tags": [],
    "user_expressions": []
   },
   "source": [
    "Here is an example of how to glue text: {glue:}`glued_text` and numbers : {glue:}`ss_sum`"
   ]
  },
  {
   "cell_type": "markdown",
   "id": "2daae2ee-33c0-47e8-b89c-4178d8335b58",
   "metadata": {
    "user_expressions": []
   },
   "source": [
    "```{uml}\n",
    "Alice -> Bob: Hi!\n",
    "Alice <- Bob: How are you?\n",
    "```"
   ]
  },
  {
   "cell_type": "code",
   "execution_count": null,
   "id": "1c87b47f-c025-4a27-b95c-aa194ff20ac0",
   "metadata": {},
   "outputs": [],
   "source": []
  }
 ],
 "metadata": {
  "kernelspec": {
   "display_name": "Python 3 (ipykernel)",
   "language": "python",
   "name": "python3"
  },
  "language_info": {
   "codemirror_mode": {
    "name": "ipython",
    "version": 3
   },
   "file_extension": ".py",
   "mimetype": "text/x-python",
   "name": "python",
   "nbconvert_exporter": "python",
   "pygments_lexer": "ipython3",
   "version": "3.10.10"
  }
 },
 "nbformat": 4,
 "nbformat_minor": 5
}
